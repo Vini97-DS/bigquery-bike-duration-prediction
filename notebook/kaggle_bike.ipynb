{
 "cells": [
  {
   "cell_type": "code",
   "execution_count": null,
   "metadata": {
    "execution": {
     "iopub.execute_input": "2025-09-05T20:43:17.090310Z",
     "iopub.status.busy": "2025-09-05T20:43:17.089976Z",
     "iopub.status.idle": "2025-09-05T20:43:17.095329Z",
     "shell.execute_reply": "2025-09-05T20:43:17.094415Z",
     "shell.execute_reply.started": "2025-09-05T20:43:17.090281Z"
    },
    "trusted": true
   },
   "outputs": [],
   "source": [
    "from google.cloud import bigquery\n",
    "from kaggle.competitions import bq_helper\n",
    "\n",
    "# ID do projeto do Google Cloud\n",
    "PROJECT_ID = \"glass-arcade-469814-k2\"\n",
    "# Caminho completo para o melhor modelo\n",
    "MODEL_NAME = \"kaggle_bikes_eu.bike_duration_model_boosted_tree\"\n",
    "# ----------------------------------------------------\n",
    "\n",
    "print(\"Iniciando a autenticação com o Google Cloud...\")\n",
    "bigquery_client = bigquery.Client(project=PROJECT_ID)\n",
    "print(\"Autenticação com BigQuery bem-sucedida.\")\n",
    "\n",
    "\n",
    "# Etapa de Submissão usando o bq_helper\n",
    "print(\"Iniciando a geração do arquivo de submissão...\")\n",
    "# Cria o assistente da competição\n",
    "bq_assistant = bq_helper.BigQueryHelper(\"bigquery-public-data\", \"london_bicycles\")\n",
    "\n",
    "bq_assistant.predict_and_submit(PROJECT_ID, MODEL_NAME, \"submission.csv\")\n",
    "\n",
    "print(\"Arquivo de submissão 'submission.csv' gerado com sucesso!\")\n",
    "print(\"O notebook terminará de rodar em alguns minutos. Você poderá encontrar o resultado na aba 'Output'.\")\n"
   ]
  }
 ],
 "metadata": {
  "kaggle": {
   "accelerator": "none",
   "dataSources": [
    {
     "databundleVersionId": 13391012,
     "sourceId": 110281,
     "sourceType": "competition"
    }
   ],
   "dockerImageVersionId": 31089,
   "isGpuEnabled": false,
   "isInternetEnabled": true,
   "language": "python",
   "sourceType": "notebook"
  },
  "kernelspec": {
   "display_name": "Python 3",
   "language": "python",
   "name": "python3"
  },
  "language_info": {
   "codemirror_mode": {
    "name": "ipython",
    "version": 3
   },
   "file_extension": ".py",
   "mimetype": "text/x-python",
   "name": "python",
   "nbconvert_exporter": "python",
   "pygments_lexer": "ipython3",
   "version": "3.11.13"
  }
 },
 "nbformat": 4,
 "nbformat_minor": 4
}
